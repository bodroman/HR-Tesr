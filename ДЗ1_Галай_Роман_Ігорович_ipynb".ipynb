{
  "nbformat": 4,
  "nbformat_minor": 0,
  "metadata": {
    "colab": {
      "provenance": [],
      "collapsed_sections": [
        "mbmam7xBKWRj"
      ],
      "include_colab_link": true
    },
    "kernelspec": {
      "name": "python3",
      "display_name": "Python 3"
    },
    "language_info": {
      "name": "python"
    }
  },
  "cells": [
    {
      "cell_type": "markdown",
      "metadata": {
        "id": "view-in-github",
        "colab_type": "text"
      },
      "source": [
        "<a href=\"https://colab.research.google.com/github/bodroman/HR-Tesr/blob/main/%D0%94%D0%971_%D0%93%D0%B0%D0%BB%D0%B0%D0%B9_%D0%A0%D0%BE%D0%BC%D0%B0%D0%BD_%D0%86%D0%B3%D0%BE%D1%80%D0%BE%D0%B2%D0%B8%D1%87_ipynb%22.ipynb\" target=\"_parent\"><img src=\"https://colab.research.google.com/assets/colab-badge.svg\" alt=\"Open In Colab\"/></a>"
      ]
    },
    {
      "cell_type": "markdown",
      "source": [
        "# Нагадування по Markdown"
      ],
      "metadata": {
        "id": "mbmam7xBKWRj"
      }
    },
    {
      "cell_type": "markdown",
      "source": [
        "Надаємо невелике нагадування записів в\n",
        "[Markdown](https://colab.research.google.com/notebooks/markdown_guide.ipynb) (LaTeX):\n",
        "\n",
        "Markdown | Preview\n",
        "--- | ---\n",
        "`**bold text**` | **bold text**\n",
        " \\\\$\\frac{x}{y}\\\\$ | $\\frac{x}{y}$\n",
        " \\\\$p^{x}_{y}\\\\$ | $p^{x}_{y}$\n",
        "\\\\$x \\cdot y\\\\$ | $x \\cdot y$\n",
        "\\\\$\\sqrt{x}\\\\$ | $\\sqrt{x}$\n",
        "\\\\$\\pi\\\\$ | $\\pi$\n",
        "\\\\$\\approx\\\\$ | $\\approx$\n",
        "\n",
        "І ще декілька прикладів:\n",
        "\n",
        "```markdown\n",
        "$y=x^2$\n",
        "\n",
        "$e^{i\\pi} + 1 = 0$\n",
        "\n",
        "$e^x=\\sum_{i=0}^\\infty \\frac{1}{i!}x^i$\n",
        "\n",
        "$\\frac{n!}{k!(n-k)!} = {n \\choose k}$\n",
        "\n",
        "$A_{m,n} =\n",
        " \\begin{pmatrix}\n",
        "  a_{1,1} & a_{1,2} & \\cdots & a_{1,n} \\\\\n",
        "  a_{2,1} & a_{2,2} & \\cdots & a_{2,n} \\\\\n",
        "  \\vdots  & \\vdots  & \\ddots & \\vdots  \\\\\n",
        "  a_{m,1} & a_{m,2} & \\cdots & a_{m,n}\n",
        " \\end{pmatrix}$\n",
        "\n",
        " $$\n",
        " I =\n",
        " \\left (\\begin{array}{cc}\n",
        " 1 & 0\\\\\n",
        " 0 & 1\n",
        " \\end{array}\\right)\n",
        " $$\n",
        "```\n",
        "\n",
        "$y=x^2$\n",
        "\n",
        "$e^{i\\pi} + 1 = 0$\n",
        "\n",
        "$e^x=\\sum_{i=0}^\\infty \\frac{1}{i!}x^i$\n",
        "\n",
        "$\\frac{n!}{k!(n-k)!} = {n \\choose k}$\n",
        "\n",
        "$A_{m,n} =\n",
        " \\begin{pmatrix}\n",
        "  a_{1,1} & a_{1,2} & \\cdots & a_{1,n} \\\\\n",
        "  a_{2,1} & a_{2,2} & \\cdots & a_{2,n} \\\\\n",
        "  \\vdots  & \\vdots  & \\ddots & \\vdots  \\\\\n",
        "  a_{m,1} & a_{m,2} & \\cdots & a_{m,n}\n",
        " \\end{pmatrix}$\n",
        "\n",
        "$I =\n",
        "\\left (\\begin{array}{cc}\n",
        "1 & 0\\\\\n",
        "0 & 1\n",
        "\\end{array}\\right)$\n",
        " ---"
      ],
      "metadata": {
        "id": "WKbf0DcrKYHi"
      }
    },
    {
      "cell_type": "markdown",
      "source": [
        "# Завдання 1.\n",
        "В шаблоні наведені числові вектори $\\overline{a}$ та $\\overline{b}$. Порахуй наступне:\n",
        "- сума $\\overline{a}$ та $\\overline{b}$\n",
        "- різниця $\\overline{a}$ та $\\overline{b}$\n",
        "- сума $\\overline{a}$ та $\\overline{b}^T$. Поясни отриманий результат.\n",
        "- матричний добуток (dot product) $\\overline{a}$ та $\\overline{b}^T$.\n",
        "- матричний добуток (dot product) $\\overline{a}$ та $\\overline{b}$. Поясни отриманий результат.\n",
        "- добуток Адамара (Hadamard product) $\\overline{a}$ та $\\overline{b}$. Поясни отриманий результат.\n",
        "- ділення $\\overline{a}$ та $\\overline{b}$. Поясни отриманий результат.\n",
        "- ділення $\\overline{a}$ та $\\overline{b}^T$. Поясни отриманий результат."
      ],
      "metadata": {
        "id": "AQsl6FeF0Sq3"
      }
    },
    {
      "cell_type": "code",
      "source": [
        "import numpy as np\n",
        "# Код оголошення векторів не можна змінювати\n",
        "a = np.array([[1, 2, 3, 4, 5]])\n",
        "b = np.array([[1/2, 1, 2, 3, 4]])"
      ],
      "metadata": {
        "id": "x_pAAV5I0Rqg"
      },
      "execution_count": null,
      "outputs": []
    },
    {
      "cell_type": "code",
      "source": [
        "sum_ab = a + b\n",
        "print(\"Сума a та b:\")\n",
        "print(sum_ab)"
      ],
      "metadata": {
        "id": "-TcDgKRB0n-s",
        "outputId": "84721568-8677-44bf-904b-7ff84f077f57",
        "colab": {
          "base_uri": "https://localhost:8080/"
        }
      },
      "execution_count": null,
      "outputs": [
        {
          "output_type": "stream",
          "name": "stdout",
          "text": [
            "Сума a та b:\n",
            "[[1.5 3.  5.  7.  9. ]]\n"
          ]
        }
      ]
    },
    {
      "cell_type": "code",
      "source": [
        "diff_ab = a - b\n",
        "print(\"\\nРізниця a та b:\")\n",
        "print(diff_ab)"
      ],
      "metadata": {
        "id": "CcIk7MVQ1xgq",
        "outputId": "9fe720a5-f8a5-483d-9176-f02f5e28909e",
        "colab": {
          "base_uri": "https://localhost:8080/"
        }
      },
      "execution_count": null,
      "outputs": [
        {
          "output_type": "stream",
          "name": "stdout",
          "text": [
            "\n",
            "Різниця a та b:\n",
            "[[0.5 1.  1.  1.  1. ]]\n"
          ]
        }
      ]
    },
    {
      "cell_type": "code",
      "source": [
        "# Пояснення: Сума виконується елемент за елементом (оскільки b.T еквівалентний b)\n",
        "try:\n",
        "    sum_ab_T = a + b\n",
        "except ValueError as e:\n",
        "    sum_ab_T = str(e)\n",
        "print(\"\\nСума a та b.T:\")\n",
        "print(sum_ab_T)"
      ],
      "metadata": {
        "id": "exb6q60N0uFv",
        "outputId": "e1fb9dff-2af6-4c61-a863-76a4168f6716",
        "colab": {
          "base_uri": "https://localhost:8080/"
        }
      },
      "execution_count": null,
      "outputs": [
        {
          "output_type": "stream",
          "name": "stdout",
          "text": [
            "\n",
            "Сума a та b.T:\n",
            "[[1.5 3.  5.  7.  9. ]]\n"
          ]
        }
      ]
    },
    {
      "cell_type": "code",
      "source": [
        "dot_ab_T = np.dot(a, b.T)\n",
        "print(\"\\nМатричний добуток (dot product) a та b.T:\")\n",
        "print(dot_ab_T)"
      ],
      "metadata": {
        "id": "oZB7Kx5_1c29",
        "outputId": "f4e9512b-50f9-4f94-cd7c-34212cc12c64",
        "colab": {
          "base_uri": "https://localhost:8080/"
        }
      },
      "execution_count": null,
      "outputs": [
        {
          "output_type": "stream",
          "name": "stdout",
          "text": [
            "\n",
            "Матричний добуток (dot product) a та b.T:\n",
            "[[40.5]]\n"
          ]
        }
      ]
    },
    {
      "cell_type": "code",
      "source": [
        "# Пояснення: отримання скалярного добутоку векторів методом перетворення їх у одновимірні вектори\n",
        "dot_ab = np.dot(a[0], b[0])\n",
        "print(\"\\nМатричний добуток (dot product) a та b:\")\n",
        "print(dot_ab)\n"
      ],
      "metadata": {
        "id": "PbRyd3630xud",
        "outputId": "c5d43a83-8b90-4438-fe6a-53847bc63184",
        "colab": {
          "base_uri": "https://localhost:8080/"
        }
      },
      "execution_count": null,
      "outputs": [
        {
          "output_type": "stream",
          "name": "stdout",
          "text": [
            "\n",
            "Матричний добуток (dot product) a та b:\n",
            "40.5\n"
          ]
        }
      ]
    },
    {
      "cell_type": "code",
      "source": [
        "# Пояснення: Добуток Адамара виконується елемент за елементом\n",
        "hadamard_ab = a * b\n",
        "print(\"\\nДобуток Адамара (Hadamard product) a та b:\")\n",
        "print(hadamard_ab)"
      ],
      "metadata": {
        "id": "QPHTXr83ly7o",
        "outputId": "75516dab-9971-4ee8-d751-bf45cf2557b3",
        "colab": {
          "base_uri": "https://localhost:8080/"
        }
      },
      "execution_count": null,
      "outputs": [
        {
          "output_type": "stream",
          "name": "stdout",
          "text": [
            "\n",
            "Добуток Адамара (Hadamard product) a та b:\n",
            "[[ 0.5  2.   6.  12.  20. ]]\n"
          ]
        }
      ]
    },
    {
      "cell_type": "code",
      "source": [
        "# Пояснення: Ділення виконується елемент за елементом\n",
        "division_ab = a / b\n",
        "print(\"\\nДілення a та b:\")\n",
        "print(division_ab)"
      ],
      "metadata": {
        "id": "9mAIEbkQ1pJH",
        "outputId": "2fa4ccb8-efa5-46df-a9dc-ffbaf92a122c",
        "colab": {
          "base_uri": "https://localhost:8080/"
        }
      },
      "execution_count": null,
      "outputs": [
        {
          "output_type": "stream",
          "name": "stdout",
          "text": [
            "\n",
            "Ділення a та b:\n",
            "[[2.         2.         1.5        1.33333333 1.25      ]]\n"
          ]
        }
      ]
    },
    {
      "cell_type": "code",
      "source": [
        "# Пояснення: Ділення виконується елемент за елементом, результат той самий оскільки b.T еквівалентний b.\n",
        "try:\n",
        "    division_ab_T = a / b\n",
        "except ValueError as e:\n",
        "    division_ab_T = str(e)\n",
        "print(\"\\nДілення a та b.T:\")\n",
        "print(division_ab_T)"
      ],
      "metadata": {
        "id": "pozfWRdc1qF9",
        "outputId": "1c056749-8f68-4f20-8a9e-7c7bac68ff76",
        "colab": {
          "base_uri": "https://localhost:8080/"
        }
      },
      "execution_count": null,
      "outputs": [
        {
          "output_type": "stream",
          "name": "stdout",
          "text": [
            "\n",
            "Ділення a та b.T:\n",
            "[[2.         2.         1.5        1.33333333 1.25      ]]\n"
          ]
        }
      ]
    },
    {
      "cell_type": "markdown",
      "source": [
        "# Завдання 2\n",
        "В цьому завданні ти навчишся перетворювати вектори за допомогою афінних перетворень.  \n",
        "Дано вектор:\n",
        "$$\n",
        "x =\n",
        "\\left(\\begin{array}{cc}\n",
        "2\\\\\n",
        "1\n",
        "\\end{array}\\right)\n",
        "$$\n",
        "\n",
        "\n",
        "Виконай аналітично наступні завдання задавши матрицю перетворення та застосуй її до вектора $x$:\n",
        "\n",
        "1. Зменши вектор $x$ в 2 рази по вісі $OX$ та збільш в 3 рази по вісі $OY$.\n",
        "2. Відобрази вектор $x$ відносно початку координат.\n",
        "3. Перенеси вектор $x$ на -3 по вісі $OX$ та на 1 по вісі $OY$.\n",
        "4. Змісти вектор $x$ на 60° по вісі $OY$.\n",
        "5. Поверни вектор $x$ на 30°.\n",
        "6. Об'єднай перетворення з кроків 1, 2, 4, 5 в одну матрицю та застосуй її до вектору $x$."
      ],
      "metadata": {
        "id": "W-FFJ2oK0TTF"
      }
    },
    {
      "cell_type": "markdown",
      "source": [
        "#### 2.1 Зменши вектор  $x$  в 2 рази по вісі  OX  та збільш в 3 рази по вісі  OY ."
      ],
      "metadata": {
        "id": "6G4BWKMB33NV"
      }
    },
    {
      "cell_type": "code",
      "source": [
        "import numpy as np\n",
        "\n",
        "# Початковий вектор x\n",
        "x = np.array([2, 1])\n",
        "\n",
        "# Матриця масштабування\n",
        "M1 = np.array([\n",
        "    [0.5, 0],\n",
        "    [0, 3]\n",
        "])\n",
        "\n",
        "# Застосування матриці масштабування до вектора x\n",
        "x_scaled = M1 @ x\n",
        "\n",
        "print(\"Початковий вектор x:\")\n",
        "print(x)\n",
        "print(\"Вектор x після зменшення в 2 рази по OX та збільшення в 3 рази по OY:\")\n",
        "print(x_scaled)"
      ],
      "metadata": {
        "colab": {
          "base_uri": "https://localhost:8080/"
        },
        "id": "Mbba-Xw8Ae9_",
        "outputId": "3918d585-0353-4d67-eb47-a2c4d56939f2"
      },
      "execution_count": null,
      "outputs": [
        {
          "output_type": "stream",
          "name": "stdout",
          "text": [
            "Початковий вектор x:\n",
            "[2 1]\n",
            "Вектор x після зменшення в 2 рази по OX та збільшення в 3 рази по OY:\n",
            "[1. 3.]\n"
          ]
        }
      ]
    },
    {
      "cell_type": "markdown",
      "source": [
        "#### 2.2 Відобрази вектор $x$ відносно початку координат."
      ],
      "metadata": {
        "id": "Rlhpc8-24M9k"
      }
    },
    {
      "cell_type": "code",
      "source": [
        "import numpy as np\n",
        "\n",
        "# Початковий вектор x\n",
        "x = np.array([2, 1])\n",
        "\n",
        "# Відображення вектора відносно початку координат\n",
        "x_reflected = -x\n",
        "\n",
        "print(\"Початковий вектор x:\")\n",
        "print(x)\n",
        "\n",
        "print(\"Вектор x після відображення відносно початку координат:\")\n",
        "print(x_reflected)\n",
        "\n",
        "\n"
      ],
      "metadata": {
        "colab": {
          "base_uri": "https://localhost:8080/"
        },
        "id": "DeWpSCoI5UgI",
        "outputId": "ea407f3e-4874-40ec-c5db-e15f6a564974"
      },
      "execution_count": null,
      "outputs": [
        {
          "output_type": "stream",
          "name": "stdout",
          "text": [
            "Початковий вектор x:\n",
            "[2 1]\n",
            "Вектор x після відображення відносно початку координат:\n",
            "[-2 -1]\n"
          ]
        }
      ]
    },
    {
      "cell_type": "markdown",
      "source": [
        "#### 2.3 Перенеси вектор $x$ на -3 по вісі $OX$ та на 1 по вісі $OY$."
      ],
      "metadata": {
        "id": "V5AiNUx14MvZ"
      }
    },
    {
      "cell_type": "code",
      "source": [
        "import numpy as np\n",
        "\n",
        "# Початковий вектор x\n",
        "x = np.array([2, 1])\n",
        "\n",
        "# Зсув на -3 по осі OX і на 1 по осі OY\n",
        "shift_x = -3\n",
        "shift_y = 1\n",
        "\n",
        "# Застосування зсуву\n",
        "x_shifted = x + np.array([shift_x, shift_y])\n",
        "\n",
        "print(\"Початковий вектор x:\")\n",
        "print(x)\n",
        "\n",
        "print(\"Вектор x після зміщення на -3 по осі OX і на 1 по осі OY:\")\n",
        "print(x_shifted)\n",
        "\n"
      ],
      "metadata": {
        "colab": {
          "base_uri": "https://localhost:8080/"
        },
        "id": "QxFkGqguxoLD",
        "outputId": "6379f8eb-55ad-451a-c8ad-cdd4e701ea9d"
      },
      "execution_count": null,
      "outputs": [
        {
          "output_type": "stream",
          "name": "stdout",
          "text": [
            "Початковий вектор x:\n",
            "[2 1]\n",
            "Вектор x після зміщення на -3 по осі OX і на 1 по осі OY:\n",
            "[-1  2]\n"
          ]
        }
      ]
    },
    {
      "cell_type": "markdown",
      "source": [
        "#### 2.4 Змісти вектор $x$ на 60° по вісі $OY$.\n"
      ],
      "metadata": {
        "id": "VfjTQ4li9Neq"
      }
    },
    {
      "cell_type": "code",
      "source": [
        "import numpy as np\n",
        "\n",
        "# Початковий вектор x\n",
        "x = np.array([2, 1])\n",
        "\n",
        "# Кут повороту в градусах і радіанах\n",
        "theta = 60\n",
        "theta_rad = np.radians(theta)\n",
        "\n",
        "# Матриця повороту на 60°\n",
        "R = np.array([\n",
        "    [np.cos(theta_rad), -np.sin(theta_rad)],\n",
        "    [np.sin(theta_rad), np.cos(theta_rad)]\n",
        "])\n",
        "\n",
        "# Застосування матриці повороту до вектора x\n",
        "x_rotated = R @ x\n",
        "\n",
        "print(\"Початковий вектор x:\")\n",
        "print(x)\n",
        "\n",
        "print(\"Матриця повороту на 60°:\")\n",
        "print(R)\n",
        "\n",
        "print(\"Вектор x після зміщення на 60° по осі OY:\")\n",
        "print(x_rotated)\n",
        "\n",
        "\n"
      ],
      "metadata": {
        "colab": {
          "base_uri": "https://localhost:8080/"
        },
        "id": "vN6qnI76HRpn",
        "outputId": "cdbf05aa-85e8-4fb2-e342-efb5d797bf94"
      },
      "execution_count": null,
      "outputs": [
        {
          "output_type": "stream",
          "name": "stdout",
          "text": [
            "Початковий вектор x:\n",
            "[2 1]\n",
            "Матриця повороту на 60°:\n",
            "[[ 0.5       -0.8660254]\n",
            " [ 0.8660254  0.5      ]]\n",
            "Вектор x після зміщення на 60° по осі OY:\n",
            "[0.1339746  2.23205081]\n"
          ]
        }
      ]
    },
    {
      "cell_type": "markdown",
      "source": [
        "#### 2.5 Поверни вектор $x$ на 30°."
      ],
      "metadata": {
        "id": "F5dbVgGr9RCD"
      }
    },
    {
      "cell_type": "code",
      "source": [
        "import numpy as np\n",
        "\n",
        "# Початковий вектор x\n",
        "x = np.array([2, 1])\n",
        "\n",
        "# Кут повороту в градусах і радіанах\n",
        "theta = 30\n",
        "theta_rad = np.radians(theta)\n",
        "\n",
        "# Матриця повороту на 30°\n",
        "R = np.array([\n",
        "    [np.cos(theta_rad), -np.sin(theta_rad)],\n",
        "    [np.sin(theta_rad), np.cos(theta_rad)]\n",
        "])\n",
        "\n",
        "# Застосування матриці повороту до вектора x\n",
        "x_rotated = R @ x\n",
        "\n",
        "print(\"Початковий вектор x:\")\n",
        "print(x)\n",
        "\n",
        "print(\"Матриця повороту на 30°:\")\n",
        "print(R)\n",
        "\n",
        "print(\"Вектор x після повороту на 30°:\")\n",
        "print(x_rotated)\n",
        "\n"
      ],
      "metadata": {
        "colab": {
          "base_uri": "https://localhost:8080/"
        },
        "id": "Z0jeC8SWGj6l",
        "outputId": "78627a34-3730-4eac-ff5e-4f375118b2b0"
      },
      "execution_count": null,
      "outputs": [
        {
          "output_type": "stream",
          "name": "stdout",
          "text": [
            "Початковий вектор x:\n",
            "[2 1]\n",
            "Матриця повороту на 30°:\n",
            "[[ 0.8660254 -0.5      ]\n",
            " [ 0.5        0.8660254]]\n",
            "Вектор x після повороту на 30°:\n",
            "[1.23205081 1.8660254 ]\n"
          ]
        }
      ]
    },
    {
      "cell_type": "markdown",
      "source": [
        "#### 2.6 Об'єднай перетворення з кроків 1, 2, 4, 5 в одну матрицю та застосуй її до вектору $x$."
      ],
      "metadata": {
        "id": "nXJQVzee9RTp"
      }
    },
    {
      "cell_type": "code",
      "source": [
        "import numpy as np\n",
        "\n",
        "# Вектори\n",
        "v1 = np.array([1.23205081, 1.8660254])\n",
        "v2 = np.array([0.1339746, 2.23205081])\n",
        "v3 = np.array([-2, -1])\n",
        "v4 = np.array([1, 3])\n",
        "x = np.array([2, 1])\n",
        "\n",
        "# Об'єднання векторів у матрицю\n",
        "all_vectors = np.array([v1, v2, v3, v4])\n",
        "\n",
        "# Застосування матриці до вектора x\n",
        "result = all_vectors @ x\n",
        "\n",
        "print(\"Об'єднані вектори у матрицю:\")\n",
        "print(all_vectors)\n",
        "\n",
        "print(\"\\nВектор x:\")\n",
        "print(x)\n",
        "\n",
        "print(\"\\nРезультат застосування матриці до вектора x:\")\n",
        "print(result)\n"
      ],
      "metadata": {
        "colab": {
          "base_uri": "https://localhost:8080/"
        },
        "id": "7zKxAnBAocQQ",
        "outputId": "b647eed8-b9d0-4fb0-cc4b-450d1ef107ba"
      },
      "execution_count": null,
      "outputs": [
        {
          "output_type": "stream",
          "name": "stdout",
          "text": [
            "Об'єднані вектори у матрицю:\n",
            "[[ 1.23205081  1.8660254 ]\n",
            " [ 0.1339746   2.23205081]\n",
            " [-2.         -1.        ]\n",
            " [ 1.          3.        ]]\n",
            "\n",
            "Вектор x:\n",
            "[2 1]\n",
            "\n",
            "Результат застосування матриці до вектора x:\n",
            "[ 4.33012702  2.50000001 -5.          5.        ]\n"
          ]
        }
      ]
    },
    {
      "cell_type": "markdown",
      "source": [
        "# Завдання 2 (Альтернативне)"
      ],
      "metadata": {
        "id": "4Hskh6fFb89N"
      }
    },
    {
      "cell_type": "code",
      "source": [
        "import cv2 as cv\n",
        "import urllib\n",
        "import numpy as np\n",
        "from google.colab.patches import cv2_imshow as cv_imshow\n",
        "\n",
        "# Read an image\n",
        "def read_image_by_url(url):\n",
        "    req = urllib.request.urlopen(url)\n",
        "    arr = np.asarray(bytearray(req.read()), dtype=np.uint8)\n",
        "    img = cv.imdecode(arr, -1)\n",
        "    return img\n",
        "\n",
        "url = ''\n",
        "\n",
        "img = read_image_by_url(url)"
      ],
      "metadata": {
        "id": "T9X-m9XvdlPK"
      },
      "execution_count": null,
      "outputs": []
    },
    {
      "cell_type": "code",
      "source": [
        "cv_imshow(img)"
      ],
      "metadata": {
        "id": "3oDsfgd25Rx7"
      },
      "execution_count": null,
      "outputs": []
    },
    {
      "cell_type": "code",
      "source": [],
      "metadata": {
        "id": "XmpNfQZpira8"
      },
      "execution_count": null,
      "outputs": []
    }
  ]
}